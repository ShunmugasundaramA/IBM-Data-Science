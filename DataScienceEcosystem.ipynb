{
  "metadata": {
    "kernelspec": {
      "name": "xpython",
      "display_name": "Python 3.13 (XPython)",
      "language": "python"
    },
    "language_info": {
      "file_extension": ".py",
      "mimetype": "text/x-python",
      "name": "python",
      "version": "3.13.1"
    }
  },
  "nbformat_minor": 5,
  "nbformat": 4,
  "cells": [
    {
      "id": "c5f1df9b-5c45-40ff-83ce-050725af5f92",
      "cell_type": "markdown",
      "source": "<H1>Data Science Tools and Ecosystem</H1>",
      "metadata": {}
    },
    {
      "id": "89ef526d-0a69-4b5c-ab3c-e6ab7954aff5",
      "cell_type": "markdown",
      "source": "In this notebook, Data Science Tools and Ecosystem are summarized.\n",
      "metadata": {}
    },
    {
      "id": "6ed6a091-032d-48e6-82c3-b6d517727fdd",
      "cell_type": "markdown",
      "source": "<B>Objective</b>\n\nIn this Notebook, the below assignments are taken\n\n<ul>\n    <li>Create Markdown with Title</li>\n    <li>Create Markdown for Some of the popular language</li>\n    <li>Create Markdown for Some of the commonly used libraries</li>\n    <li>Create Markdown for Some of the Data Science Tools</li>\n    <li>Few examples of evaluating arithmetic expressions</li>\n</ul>",
      "metadata": {}
    },
    {
      "id": "2087df4c-ec7f-4dc1-a567-adbd24fd57b4",
      "cell_type": "markdown",
      "source": "<b>Some of the popular languages that Data Scientists use are:</b>\n<ol type=\"1\">\n  <li>Python</li>\n  <li>R</li>\n  <li>Julia</li>\n  <li>Scala</li>\n</ol>",
      "metadata": {}
    },
    {
      "id": "37114176-8ab8-4ae3-9af4-46cf29a4a066",
      "cell_type": "markdown",
      "source": "<b>Some of the commonly used libraries used by Data Scientists include:</b>\n<ol type=\"1\">\n  <li>NumPy</li>\n  <li>Pandas</li>\n  <li>Matplotlib</li>\n  <li>Scikit-learn</li>\n</ol>",
      "metadata": {}
    },
    {
      "id": "88298542-af38-408d-93ad-bfc872c7b22b",
      "cell_type": "markdown",
      "source": "<table>\n  <th>Data Science Tools</th>  \n    <tr><td>Excel</td></tr>\n    <tr><td>SQL</td></tr>\n    <tr><td>Power BI</td></tr>\n    <tr><td>Tableau</td></tr>\n    <tr><td>Apache Hadoop</td></tr>\n</table>",
      "metadata": {}
    },
    {
      "id": "be86ba7b-c1c9-49c5-8c24-ea991ef02fc5",
      "cell_type": "markdown",
      "source": "<h3>Below are a few examples of evaluating arithmetic expressions in Python<h3>",
      "metadata": {}
    },
    {
      "id": "9600fef7-e9fa-4b52-9a29-fb5a497764da",
      "cell_type": "code",
      "source": "# This a simple arithmetic expression to mutiply then add integers \n(3*4)+5",
      "metadata": {
        "trusted": true
      },
      "outputs": [
        {
          "execution_count": 9,
          "output_type": "execute_result",
          "data": {
            "text/plain": "17"
          },
          "metadata": {}
        }
      ],
      "execution_count": 9
    },
    {
      "id": "33447cac-28ef-456c-8787-6a21f9982df9",
      "cell_type": "code",
      "source": "# This will convert 200 minutes to hours by diving by 60\nminutes = 200\nhours = minutes // 60\nremaining_minutes = minutes % 60\nprint(f\"{hours} hours and {remaining_minutes} minutes\")",
      "metadata": {
        "trusted": true
      },
      "outputs": [
        {
          "name": "stdout",
          "output_type": "stream",
          "text": "3 hours and 20 minutes\n"
        }
      ],
      "execution_count": 11
    },
    {
      "id": "5160f550-74af-4aec-b975-34e39303fa48",
      "cell_type": "code",
      "source": "",
      "metadata": {
        "trusted": true
      },
      "outputs": [],
      "execution_count": null
    },
    {
      "id": "b258f2f3-95d9-44da-81f2-6065af22cf6f",
      "cell_type": "markdown",
      "source": "<h2>Author</h2>\nShunmuga sundaram. A",
      "metadata": {}
    }
  ]
}
